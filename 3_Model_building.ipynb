{
 "cells": [
  {
   "cell_type": "markdown",
   "id": "1a084f29-c372-4567-9cf4-5d01cb3818e0",
   "metadata": {},
   "source": [
    "### Importing libraries and data"
   ]
  },
  {
   "cell_type": "code",
   "execution_count": 4,
   "id": "84e98b28-652a-4ae2-9e7c-93ae50638d32",
   "metadata": {},
   "outputs": [],
   "source": [
    "# !pip install lightgbm\n",
    "# !pip install seaborn --upgrade\n",
    "# !pip install shap"
   ]
  },
  {
   "cell_type": "code",
   "execution_count": 1,
   "id": "74891109-bc2c-4a11-ab79-cee1087a08d5",
   "metadata": {},
   "outputs": [],
   "source": [
    "import numpy as np\n",
    "import pandas as pd\n",
    "import matplotlib.pyplot as plt\n",
    "import seaborn as sns\n",
    "sns.set()\n",
    "%matplotlib inline\n",
    "\n",
    "import warnings\n",
    "warnings.filterwarnings(\"ignore\")\n",
    "\n",
    "import pickle\n",
    "\n",
    "from sklearn.model_selection import train_test_split\n",
    "from sklearn.preprocessing import QuantileTransformer\n",
    "from sklearn.preprocessing import StandardScaler, MinMaxScaler\n",
    "from sklearn.preprocessing import OneHotEncoder, OrdinalEncoder\n",
    "\n",
    "from sklearn.linear_model import LogisticRegression\n",
    "from sklearn.naive_bayes import GaussianNB\n",
    "from sklearn.svm import SVC\n",
    "from sklearn.tree import DecisionTreeClassifier\n",
    "from sklearn.ensemble import RandomForestClassifier\n",
    "from lightgbm import LGBMClassifier, plot_importance as plot_importance_lgbm\n",
    "\n",
    "import re\n",
    "from scipy import stats\n",
    "from tqdm import tqdm\n",
    "import glob\n",
    "import time\n",
    "import random\n",
    "import shap\n",
    "\n",
    "from sklearn.linear_model import LogisticRegression\n",
    "from sklearn.metrics import classification_report, accuracy_score, confusion_matrix, f1_score, roc_curve, auc, roc_auc_score, precision_recall_curve\n",
    "\n",
    "from sklearn.model_selection import GridSearchCV, RandomizedSearchCV\n",
    "\n",
    "from utils import clean_text, cap_values, categorize_value, calculate_risk_score, preprocess_data, evaluate_model, tune_model, \\\n",
    " train_models, load_models, load_model_params\n",
    "\n",
    "random.seed(42)"
   ]
  },
  {
   "cell_type": "markdown",
   "id": "c89bad9c-5156-4be8-b113-4d92194af044",
   "metadata": {},
   "source": [
    "#### Feature sets for train data"
   ]
  },
  {
   "cell_type": "code",
   "execution_count": 3,
   "id": "d4f92863-bf86-40e9-8ba7-b92ed82a7368",
   "metadata": {},
   "outputs": [
    {
     "data": {
      "text/plain": [
       "dict_keys(['[X_tr_imb, y_tr_imb]', '[X_tr_smote, y_tr_smote]', '[X_tr_std, y_tr_std]', '[X_tr_smote_std, y_tr_smote]'])"
      ]
     },
     "execution_count": 3,
     "metadata": {},
     "output_type": "execute_result"
    }
   ],
   "source": [
    "with open(r'.\\dumps\\train_feature_sets.pkl', 'rb') as f:\n",
    "    train_feature_sets = pickle.load(f)\n",
    "\n",
    "train_feature_sets.keys()"
   ]
  },
  {
   "cell_type": "markdown",
   "id": "c5a93b7d-bc79-45a6-8cb9-7f0af3385f7a",
   "metadata": {},
   "source": [
    "#### Feature sets for test data"
   ]
  },
  {
   "cell_type": "code",
   "execution_count": 5,
   "id": "3f8798ca-cb81-4e6f-8474-02ba2b2899f5",
   "metadata": {},
   "outputs": [
    {
     "data": {
      "text/plain": [
       "((138, 11), (138,))"
      ]
     },
     "execution_count": 5,
     "metadata": {},
     "output_type": "execute_result"
    }
   ],
   "source": [
    "with open(r'.\\data_for_model\\test\\test_data.pkl', 'rb') as f:\n",
    "    X_test, y_test = pickle.load(f)\n",
    "\n",
    "X_test.shape, y_test.shape"
   ]
  },
  {
   "cell_type": "code",
   "execution_count": 6,
   "id": "91f38ae6-0882-424a-8c52-7286e8f21d40",
   "metadata": {},
   "outputs": [
    {
     "data": {
      "text/html": [
       "<div>\n",
       "<style scoped>\n",
       "    .dataframe tbody tr th:only-of-type {\n",
       "        vertical-align: middle;\n",
       "    }\n",
       "\n",
       "    .dataframe tbody tr th {\n",
       "        vertical-align: top;\n",
       "    }\n",
       "\n",
       "    .dataframe thead th {\n",
       "        text-align: right;\n",
       "    }\n",
       "</style>\n",
       "<table border=\"1\" class=\"dataframe\">\n",
       "  <thead>\n",
       "    <tr style=\"text-align: right;\">\n",
       "      <th></th>\n",
       "      <th>Age</th>\n",
       "      <th>RestingBP</th>\n",
       "      <th>Cholesterol</th>\n",
       "      <th>MaxHR</th>\n",
       "      <th>Oldpeak</th>\n",
       "      <th>New_Risk_Score</th>\n",
       "      <th>Sex</th>\n",
       "      <th>FastingBS</th>\n",
       "      <th>ExerciseAngina</th>\n",
       "      <th>ChestPainType_asy</th>\n",
       "      <th>...</th>\n",
       "      <th>RestingECG_lvh</th>\n",
       "      <th>RestingECG_normal</th>\n",
       "      <th>RestingECG_st</th>\n",
       "      <th>ST_Slope_down</th>\n",
       "      <th>ST_Slope_flat</th>\n",
       "      <th>ST_Slope_up</th>\n",
       "      <th>New_Cholesterol_Bin_high</th>\n",
       "      <th>New_Cholesterol_Bin_low</th>\n",
       "      <th>New_Cholesterol_Bin_medium</th>\n",
       "      <th>New_Cholesterol_Bin_zero</th>\n",
       "    </tr>\n",
       "  </thead>\n",
       "  <tbody>\n",
       "    <tr>\n",
       "      <th>0</th>\n",
       "      <td>51</td>\n",
       "      <td>125</td>\n",
       "      <td>188</td>\n",
       "      <td>145</td>\n",
       "      <td>0.0</td>\n",
       "      <td>2</td>\n",
       "      <td>1</td>\n",
       "      <td>0</td>\n",
       "      <td>0</td>\n",
       "      <td>0</td>\n",
       "      <td>...</td>\n",
       "      <td>0</td>\n",
       "      <td>1</td>\n",
       "      <td>0</td>\n",
       "      <td>0</td>\n",
       "      <td>0</td>\n",
       "      <td>1</td>\n",
       "      <td>0</td>\n",
       "      <td>1</td>\n",
       "      <td>0</td>\n",
       "      <td>0</td>\n",
       "    </tr>\n",
       "    <tr>\n",
       "      <th>1</th>\n",
       "      <td>70</td>\n",
       "      <td>130</td>\n",
       "      <td>322</td>\n",
       "      <td>109</td>\n",
       "      <td>2.4</td>\n",
       "      <td>8</td>\n",
       "      <td>1</td>\n",
       "      <td>0</td>\n",
       "      <td>0</td>\n",
       "      <td>1</td>\n",
       "      <td>...</td>\n",
       "      <td>1</td>\n",
       "      <td>0</td>\n",
       "      <td>0</td>\n",
       "      <td>0</td>\n",
       "      <td>1</td>\n",
       "      <td>0</td>\n",
       "      <td>1</td>\n",
       "      <td>0</td>\n",
       "      <td>0</td>\n",
       "      <td>0</td>\n",
       "    </tr>\n",
       "  </tbody>\n",
       "</table>\n",
       "<p>2 rows × 23 columns</p>\n",
       "</div>"
      ],
      "text/plain": [
       "   Age  RestingBP  Cholesterol  MaxHR  Oldpeak  New_Risk_Score  Sex  \\\n",
       "0   51        125          188    145      0.0               2    1   \n",
       "1   70        130          322    109      2.4               8    1   \n",
       "\n",
       "   FastingBS  ExerciseAngina  ChestPainType_asy  ...  RestingECG_lvh  \\\n",
       "0          0               0                  0  ...               0   \n",
       "1          0               0                  1  ...               1   \n",
       "\n",
       "   RestingECG_normal  RestingECG_st  ST_Slope_down  ST_Slope_flat  \\\n",
       "0                  1              0              0              0   \n",
       "1                  0              0              0              1   \n",
       "\n",
       "   ST_Slope_up  New_Cholesterol_Bin_high  New_Cholesterol_Bin_low  \\\n",
       "0            1                         0                        1   \n",
       "1            0                         1                        0   \n",
       "\n",
       "   New_Cholesterol_Bin_medium  New_Cholesterol_Bin_zero  \n",
       "0                           0                         0  \n",
       "1                           0                         0  \n",
       "\n",
       "[2 rows x 23 columns]"
      ]
     },
     "execution_count": 6,
     "metadata": {},
     "output_type": "execute_result"
    }
   ],
   "source": [
    "X_test = preprocess_data(X_test)\n",
    "X_test.head(2)"
   ]
  },
  {
   "cell_type": "code",
   "execution_count": 7,
   "id": "a0aacc8d-a9da-4b13-8b70-4d0e49adb8a6",
   "metadata": {},
   "outputs": [],
   "source": [
    "# Feature columns\n",
    "\n",
    "with open(r'.\\dumps\\num_FE_features.pkl', 'rb') as f:\n",
    "    num_FE_features = pickle.load(f)\n",
    "\n",
    "with open(r'.\\dumps\\numeric_columns.pkl', 'rb') as f:\n",
    "    numeric_cols = pickle.load(f)\n",
    "\n",
    "with open(r'.\\dumps\\mapping_features.pkl', 'rb') as f:\n",
    "    mapping_features = pickle.load(f)\n",
    "\n",
    "with open(r'.\\dumps\\one_hot_encoder_feature_names.pkl', 'rb') as f:\n",
    "    one_hot_encoder_feature_names = pickle.load(f)\n",
    "\n",
    "num_cols = numeric_cols + num_FE_features"
   ]
  },
  {
   "cell_type": "code",
   "execution_count": 8,
   "id": "cf972f3f-ab36-4f37-90d5-c460c709e720",
   "metadata": {},
   "outputs": [],
   "source": [
    "with open(r'.\\dumps\\2_standardscaler.pkl', 'rb') as f:\n",
    "    scaler = pickle.load(f)\n",
    "\n",
    "num_scaled = pd.DataFrame(scaler.transform(X_test[num_cols]), columns=num_cols)\n",
    "X_te_std = pd.concat([num_scaled, X_test[mapping_features], X_test[one_hot_encoder_feature_names]], axis=1)"
   ]
  },
  {
   "cell_type": "code",
   "execution_count": 9,
   "id": "b7a052f7-e38a-4316-bbac-eb565b48b647",
   "metadata": {},
   "outputs": [],
   "source": [
    "with open(r'.\\dumps\\3_smote_standardscaler.pkl', 'rb') as f:\n",
    "    scaler = pickle.load(f)\n",
    "\n",
    "num_scaled = pd.DataFrame(scaler.transform(X_test[num_cols]), columns=num_cols)\n",
    "X_te_smote_std = pd.concat([num_scaled, X_test[mapping_features], X_test[one_hot_encoder_feature_names]], axis=1)"
   ]
  },
  {
   "cell_type": "code",
   "execution_count": 10,
   "id": "ce902ce7-b4bf-4809-8635-0e54838f9ab9",
   "metadata": {},
   "outputs": [],
   "source": [
    "test_feature_sets = {\n",
    "    '[X_test, y_test]' : [X_test, y_test],\n",
    "    '[X_te_std, y_test]' : [X_te_std, y_test],\n",
    "    '[X_te_smote_std, y_test]' : [X_te_smote_std, y_test]  \n",
    "}\n",
    "\n",
    "with open(r'.\\dumps\\test_feature_sets.pkl', 'wb') as f:\n",
    "    pickle.dump(test_feature_sets, f)"
   ]
  },
  {
   "cell_type": "markdown",
   "id": "badb267b-a395-4bf1-a4e4-8dd5ed13ca12",
   "metadata": {},
   "source": [
    "### Training Models"
   ]
  },
  {
   "cell_type": "code",
   "execution_count": 12,
   "id": "bc8771bd-8e7d-40bb-93ad-79a5f2532b0f",
   "metadata": {},
   "outputs": [
    {
     "name": "stderr",
     "output_type": "stream",
     "text": [
      " 50%|██████████████████████████████████████████                                          | 3/6 [00:00<00:00, 28.85it/s]"
     ]
    },
    {
     "name": "stdout",
     "output_type": "stream",
     "text": [
      "[LightGBM] [Info] Number of positive: 432, number of negative: 348\n",
      "[LightGBM] [Info] Auto-choosing row-wise multi-threading, the overhead of testing was 0.000413 seconds.\n",
      "You can set `force_row_wise=true` to remove the overhead.\n",
      "And if memory is not enough, you can set `force_col_wise=true`.\n",
      "[LightGBM] [Info] Total Bins 408\n",
      "[LightGBM] [Info] Number of data points in the train set: 780, number of used features: 23\n",
      "[LightGBM] [Info] [binary:BoostFromScore]: pavg=0.553846 -> initscore=0.216223\n",
      "[LightGBM] [Info] Start training from score 0.216223\n",
      "[LightGBM] [Warning] No further splits with positive gain, best gain: -inf\n",
      "[LightGBM] [Warning] No further splits with positive gain, best gain: -inf\n",
      "[LightGBM] [Warning] No further splits with positive gain, best gain: -inf\n",
      "[LightGBM] [Warning] No further splits with positive gain, best gain: -inf\n",
      "[LightGBM] [Warning] No further splits with positive gain, best gain: -inf\n",
      "[LightGBM] [Warning] No further splits with positive gain, best gain: -inf\n",
      "[LightGBM] [Warning] No further splits with positive gain, best gain: -inf\n",
      "[LightGBM] [Warning] No further splits with positive gain, best gain: -inf\n",
      "[LightGBM] [Warning] No further splits with positive gain, best gain: -inf\n",
      "[LightGBM] [Warning] No further splits with positive gain, best gain: -inf\n",
      "[LightGBM] [Warning] No further splits with positive gain, best gain: -inf\n",
      "[LightGBM] [Warning] No further splits with positive gain, best gain: -inf\n"
     ]
    },
    {
     "name": "stderr",
     "output_type": "stream",
     "text": [
      "100%|████████████████████████████████████████████████████████████████████████████████████| 6/6 [00:00<00:00,  9.53it/s]\n"
     ]
    },
    {
     "name": "stdout",
     "output_type": "stream",
     "text": [
      "[LightGBM] [Warning] No further splits with positive gain, best gain: -inf\n"
     ]
    },
    {
     "name": "stderr",
     "output_type": "stream",
     "text": [
      " 50%|██████████████████████████████████████████                                          | 3/6 [00:00<00:00, 26.67it/s]"
     ]
    },
    {
     "name": "stdout",
     "output_type": "stream",
     "text": [
      "[LightGBM] [Info] Number of positive: 432, number of negative: 432\n",
      "[LightGBM] [Info] Auto-choosing row-wise multi-threading, the overhead of testing was 0.000409 seconds.\n",
      "You can set `force_row_wise=true` to remove the overhead.\n",
      "And if memory is not enough, you can set `force_col_wise=true`.\n",
      "[LightGBM] [Info] Total Bins 438\n",
      "[LightGBM] [Info] Number of data points in the train set: 864, number of used features: 23\n",
      "[LightGBM] [Info] [binary:BoostFromScore]: pavg=0.500000 -> initscore=0.000000\n",
      "[LightGBM] [Warning] No further splits with positive gain, best gain: -inf\n",
      "[LightGBM] [Warning] No further splits with positive gain, best gain: -inf\n",
      "[LightGBM] [Warning] No further splits with positive gain, best gain: -inf\n",
      "[LightGBM] [Warning] No further splits with positive gain, best gain: -inf\n",
      "[LightGBM] [Warning] No further splits with positive gain, best gain: -inf\n",
      "[LightGBM] [Warning] No further splits with positive gain, best gain: -inf\n",
      "[LightGBM] [Warning] No further splits with positive gain, best gain: -inf\n",
      "[LightGBM] [Warning] No further splits with positive gain, best gain: -inf\n",
      "[LightGBM] [Warning] No further splits with positive gain, best gain: -inf\n"
     ]
    },
    {
     "name": "stderr",
     "output_type": "stream",
     "text": [
      "100%|████████████████████████████████████████████████████████████████████████████████████| 6/6 [00:00<00:00, 10.82it/s]\n",
      " 83%|██████████████████████████████████████████████████████████████████████              | 5/6 [00:00<00:00, 21.54it/s]"
     ]
    },
    {
     "name": "stdout",
     "output_type": "stream",
     "text": [
      "[LightGBM] [Info] Number of positive: 432, number of negative: 348\n",
      "[LightGBM] [Info] Auto-choosing row-wise multi-threading, the overhead of testing was 0.000703 seconds.\n",
      "You can set `force_row_wise=true` to remove the overhead.\n",
      "And if memory is not enough, you can set `force_col_wise=true`.\n",
      "[LightGBM] [Info] Total Bins 411\n",
      "[LightGBM] [Info] Number of data points in the train set: 780, number of used features: 23\n",
      "[LightGBM] [Info] [binary:BoostFromScore]: pavg=0.553846 -> initscore=0.216223\n",
      "[LightGBM] [Info] Start training from score 0.216223\n",
      "[LightGBM] [Warning] No further splits with positive gain, best gain: -inf\n",
      "[LightGBM] [Warning] No further splits with positive gain, best gain: -inf\n",
      "[LightGBM] [Warning] No further splits with positive gain, best gain: -inf\n",
      "[LightGBM] [Warning] No further splits with positive gain, best gain: -inf\n",
      "[LightGBM] [Warning] No further splits with positive gain, best gain: -inf\n",
      "[LightGBM] [Warning] No further splits with positive gain, best gain: -inf\n",
      "[LightGBM] [Warning] No further splits with positive gain, best gain: -inf\n",
      "[LightGBM] [Warning] No further splits with positive gain, best gain: -inf\n",
      "[LightGBM] [Warning] No further splits with positive gain, best gain: -inf\n",
      "[LightGBM] [Warning] No further splits with positive gain, best gain: -inf\n",
      "[LightGBM] [Warning] No further splits with positive gain, best gain: -inf\n",
      "[LightGBM] [Warning] No further splits with positive gain, best gain: -inf\n"
     ]
    },
    {
     "name": "stderr",
     "output_type": "stream",
     "text": [
      "100%|████████████████████████████████████████████████████████████████████████████████████| 6/6 [00:00<00:00, 12.01it/s]\n"
     ]
    },
    {
     "name": "stdout",
     "output_type": "stream",
     "text": [
      "[LightGBM] [Warning] No further splits with positive gain, best gain: -inf\n"
     ]
    },
    {
     "name": "stderr",
     "output_type": "stream",
     "text": [
      " 83%|██████████████████████████████████████████████████████████████████████              | 5/6 [00:00<00:00, 18.50it/s]"
     ]
    },
    {
     "name": "stdout",
     "output_type": "stream",
     "text": [
      "[LightGBM] [Info] Number of positive: 432, number of negative: 432\n",
      "[LightGBM] [Info] Auto-choosing col-wise multi-threading, the overhead of testing was 0.000664 seconds.\n",
      "You can set `force_col_wise=true` to remove the overhead.\n",
      "[LightGBM] [Info] Total Bins 441\n",
      "[LightGBM] [Info] Number of data points in the train set: 864, number of used features: 23\n",
      "[LightGBM] [Info] [binary:BoostFromScore]: pavg=0.500000 -> initscore=0.000000\n",
      "[LightGBM] [Warning] No further splits with positive gain, best gain: -inf\n",
      "[LightGBM] [Warning] No further splits with positive gain, best gain: -inf\n",
      "[LightGBM] [Warning] No further splits with positive gain, best gain: -inf\n",
      "[LightGBM] [Warning] No further splits with positive gain, best gain: -inf\n",
      "[LightGBM] [Warning] No further splits with positive gain, best gain: -inf\n",
      "[LightGBM] [Warning] No further splits with positive gain, best gain: -inf\n",
      "[LightGBM] [Warning] No further splits with positive gain, best gain: -inf\n",
      "[LightGBM] [Warning] No further splits with positive gain, best gain: -inf\n",
      "[LightGBM] [Warning] No further splits with positive gain, best gain: -inf\n"
     ]
    },
    {
     "name": "stderr",
     "output_type": "stream",
     "text": [
      "100%|████████████████████████████████████████████████████████████████████████████████████| 6/6 [00:00<00:00, 10.62it/s]"
     ]
    },
    {
     "name": "stdout",
     "output_type": "stream",
     "text": [
      "CPU times: total: 5.61 s\n",
      "Wall time: 2.27 s\n"
     ]
    },
    {
     "name": "stderr",
     "output_type": "stream",
     "text": [
      "\n"
     ]
    }
   ],
   "source": [
    "%%time\n",
    "random.seed(42)\n",
    "\n",
    "results = []\n",
    "results += train_models('[X_tr_imb, y_tr_imb]', '[X_test, y_test]')\n",
    "results += train_models('[X_tr_smote, y_tr_smote]', '[X_test, y_test]')\n",
    "\n",
    "results += train_models('[X_tr_std, y_tr_std]', '[X_te_std, y_test]')\n",
    "results += train_models('[X_tr_smote_std, y_tr_smote]', '[X_te_smote_std, y_test]')"
   ]
  },
  {
   "cell_type": "code",
   "execution_count": 21,
   "id": "0258f409-a234-4193-b055-957b1dcde021",
   "metadata": {},
   "outputs": [
    {
     "data": {
      "text/html": [
       "<div>\n",
       "<style scoped>\n",
       "    .dataframe tbody tr th:only-of-type {\n",
       "        vertical-align: middle;\n",
       "    }\n",
       "\n",
       "    .dataframe tbody tr th {\n",
       "        vertical-align: top;\n",
       "    }\n",
       "\n",
       "    .dataframe thead th {\n",
       "        text-align: right;\n",
       "    }\n",
       "</style>\n",
       "<table border=\"1\" class=\"dataframe\">\n",
       "  <thead>\n",
       "    <tr style=\"text-align: right;\">\n",
       "      <th></th>\n",
       "      <th>Model</th>\n",
       "      <th>train_data</th>\n",
       "      <th>test_data</th>\n",
       "      <th>train_f1_micro</th>\n",
       "      <th>test_f1_micro</th>\n",
       "      <th>train_f1_macro</th>\n",
       "      <th>test_f1_macro</th>\n",
       "      <th>train_f1_weighted</th>\n",
       "      <th>test_f1_weighted</th>\n",
       "    </tr>\n",
       "  </thead>\n",
       "  <tbody>\n",
       "    <tr>\n",
       "      <th>20</th>\n",
       "      <td>SVC</td>\n",
       "      <td>[X_tr_smote_std, y_tr_smote]</td>\n",
       "      <td>[X_te_smote_std, y_test]</td>\n",
       "      <td>0.9109</td>\n",
       "      <td>0.9203</td>\n",
       "      <td>0.9108</td>\n",
       "      <td>0.9196</td>\n",
       "      <td>0.9108</td>\n",
       "      <td>0.9203</td>\n",
       "    </tr>\n",
       "    <tr>\n",
       "      <th>22</th>\n",
       "      <td>Random Forest</td>\n",
       "      <td>[X_tr_smote_std, y_tr_smote]</td>\n",
       "      <td>[X_te_smote_std, y_test]</td>\n",
       "      <td>1.0000</td>\n",
       "      <td>0.9130</td>\n",
       "      <td>1.0000</td>\n",
       "      <td>0.9121</td>\n",
       "      <td>1.0000</td>\n",
       "      <td>0.9130</td>\n",
       "    </tr>\n",
       "    <tr>\n",
       "      <th>10</th>\n",
       "      <td>Random Forest</td>\n",
       "      <td>[X_tr_smote, y_tr_smote]</td>\n",
       "      <td>[X_test, y_test]</td>\n",
       "      <td>1.0000</td>\n",
       "      <td>0.9058</td>\n",
       "      <td>1.0000</td>\n",
       "      <td>0.9047</td>\n",
       "      <td>1.0000</td>\n",
       "      <td>0.9057</td>\n",
       "    </tr>\n",
       "    <tr>\n",
       "      <th>18</th>\n",
       "      <td>Logistic Regression</td>\n",
       "      <td>[X_tr_smote_std, y_tr_smote]</td>\n",
       "      <td>[X_te_smote_std, y_test]</td>\n",
       "      <td>0.8796</td>\n",
       "      <td>0.9058</td>\n",
       "      <td>0.8796</td>\n",
       "      <td>0.9050</td>\n",
       "      <td>0.8796</td>\n",
       "      <td>0.9059</td>\n",
       "    </tr>\n",
       "    <tr>\n",
       "      <th>16</th>\n",
       "      <td>Random Forest</td>\n",
       "      <td>[X_tr_std, y_tr_std]</td>\n",
       "      <td>[X_te_std, y_test]</td>\n",
       "      <td>1.0000</td>\n",
       "      <td>0.9058</td>\n",
       "      <td>1.0000</td>\n",
       "      <td>0.9047</td>\n",
       "      <td>1.0000</td>\n",
       "      <td>0.9057</td>\n",
       "    </tr>\n",
       "    <tr>\n",
       "      <th>12</th>\n",
       "      <td>Logistic Regression</td>\n",
       "      <td>[X_tr_std, y_tr_std]</td>\n",
       "      <td>[X_te_std, y_test]</td>\n",
       "      <td>0.8679</td>\n",
       "      <td>0.8986</td>\n",
       "      <td>0.8657</td>\n",
       "      <td>0.8975</td>\n",
       "      <td>0.8676</td>\n",
       "      <td>0.8986</td>\n",
       "    </tr>\n",
       "    <tr>\n",
       "      <th>4</th>\n",
       "      <td>Random Forest</td>\n",
       "      <td>[X_tr_imb, y_tr_imb]</td>\n",
       "      <td>[X_test, y_test]</td>\n",
       "      <td>1.0000</td>\n",
       "      <td>0.8986</td>\n",
       "      <td>1.0000</td>\n",
       "      <td>0.8975</td>\n",
       "      <td>1.0000</td>\n",
       "      <td>0.8986</td>\n",
       "    </tr>\n",
       "    <tr>\n",
       "      <th>14</th>\n",
       "      <td>SVC</td>\n",
       "      <td>[X_tr_std, y_tr_std]</td>\n",
       "      <td>[X_te_std, y_test]</td>\n",
       "      <td>0.9013</td>\n",
       "      <td>0.8913</td>\n",
       "      <td>0.8995</td>\n",
       "      <td>0.8896</td>\n",
       "      <td>0.9009</td>\n",
       "      <td>0.8910</td>\n",
       "    </tr>\n",
       "    <tr>\n",
       "      <th>11</th>\n",
       "      <td>LightGBM</td>\n",
       "      <td>[X_tr_smote, y_tr_smote]</td>\n",
       "      <td>[X_test, y_test]</td>\n",
       "      <td>1.0000</td>\n",
       "      <td>0.8913</td>\n",
       "      <td>1.0000</td>\n",
       "      <td>0.8908</td>\n",
       "      <td>1.0000</td>\n",
       "      <td>0.8916</td>\n",
       "    </tr>\n",
       "    <tr>\n",
       "      <th>23</th>\n",
       "      <td>LightGBM</td>\n",
       "      <td>[X_tr_smote_std, y_tr_smote]</td>\n",
       "      <td>[X_te_smote_std, y_test]</td>\n",
       "      <td>1.0000</td>\n",
       "      <td>0.8913</td>\n",
       "      <td>1.0000</td>\n",
       "      <td>0.8908</td>\n",
       "      <td>1.0000</td>\n",
       "      <td>0.8916</td>\n",
       "    </tr>\n",
       "    <tr>\n",
       "      <th>0</th>\n",
       "      <td>Logistic Regression</td>\n",
       "      <td>[X_tr_imb, y_tr_imb]</td>\n",
       "      <td>[X_test, y_test]</td>\n",
       "      <td>0.8692</td>\n",
       "      <td>0.8841</td>\n",
       "      <td>0.8671</td>\n",
       "      <td>0.8825</td>\n",
       "      <td>0.8689</td>\n",
       "      <td>0.8839</td>\n",
       "    </tr>\n",
       "    <tr>\n",
       "      <th>17</th>\n",
       "      <td>LightGBM</td>\n",
       "      <td>[X_tr_std, y_tr_std]</td>\n",
       "      <td>[X_te_std, y_test]</td>\n",
       "      <td>1.0000</td>\n",
       "      <td>0.8768</td>\n",
       "      <td>1.0000</td>\n",
       "      <td>0.8760</td>\n",
       "      <td>1.0000</td>\n",
       "      <td>0.8770</td>\n",
       "    </tr>\n",
       "    <tr>\n",
       "      <th>5</th>\n",
       "      <td>LightGBM</td>\n",
       "      <td>[X_tr_imb, y_tr_imb]</td>\n",
       "      <td>[X_test, y_test]</td>\n",
       "      <td>1.0000</td>\n",
       "      <td>0.8768</td>\n",
       "      <td>1.0000</td>\n",
       "      <td>0.8760</td>\n",
       "      <td>1.0000</td>\n",
       "      <td>0.8770</td>\n",
       "    </tr>\n",
       "    <tr>\n",
       "      <th>1</th>\n",
       "      <td>Naive Bayes</td>\n",
       "      <td>[X_tr_imb, y_tr_imb]</td>\n",
       "      <td>[X_test, y_test]</td>\n",
       "      <td>0.8551</td>\n",
       "      <td>0.8623</td>\n",
       "      <td>0.8535</td>\n",
       "      <td>0.8607</td>\n",
       "      <td>0.8551</td>\n",
       "      <td>0.8622</td>\n",
       "    </tr>\n",
       "    <tr>\n",
       "      <th>13</th>\n",
       "      <td>Naive Bayes</td>\n",
       "      <td>[X_tr_std, y_tr_std]</td>\n",
       "      <td>[X_te_std, y_test]</td>\n",
       "      <td>0.8551</td>\n",
       "      <td>0.8623</td>\n",
       "      <td>0.8535</td>\n",
       "      <td>0.8607</td>\n",
       "      <td>0.8551</td>\n",
       "      <td>0.8622</td>\n",
       "    </tr>\n",
       "    <tr>\n",
       "      <th>7</th>\n",
       "      <td>Naive Bayes</td>\n",
       "      <td>[X_tr_smote, y_tr_smote]</td>\n",
       "      <td>[X_test, y_test]</td>\n",
       "      <td>0.8692</td>\n",
       "      <td>0.8623</td>\n",
       "      <td>0.8692</td>\n",
       "      <td>0.8607</td>\n",
       "      <td>0.8692</td>\n",
       "      <td>0.8622</td>\n",
       "    </tr>\n",
       "    <tr>\n",
       "      <th>6</th>\n",
       "      <td>Logistic Regression</td>\n",
       "      <td>[X_tr_smote, y_tr_smote]</td>\n",
       "      <td>[X_test, y_test]</td>\n",
       "      <td>0.8750</td>\n",
       "      <td>0.8623</td>\n",
       "      <td>0.8750</td>\n",
       "      <td>0.8607</td>\n",
       "      <td>0.8750</td>\n",
       "      <td>0.8622</td>\n",
       "    </tr>\n",
       "    <tr>\n",
       "      <th>19</th>\n",
       "      <td>Naive Bayes</td>\n",
       "      <td>[X_tr_smote_std, y_tr_smote]</td>\n",
       "      <td>[X_te_smote_std, y_test]</td>\n",
       "      <td>0.8692</td>\n",
       "      <td>0.8623</td>\n",
       "      <td>0.8692</td>\n",
       "      <td>0.8607</td>\n",
       "      <td>0.8692</td>\n",
       "      <td>0.8622</td>\n",
       "    </tr>\n",
       "    <tr>\n",
       "      <th>3</th>\n",
       "      <td>Decision Tree Classifier</td>\n",
       "      <td>[X_tr_imb, y_tr_imb]</td>\n",
       "      <td>[X_test, y_test]</td>\n",
       "      <td>1.0000</td>\n",
       "      <td>0.8406</td>\n",
       "      <td>1.0000</td>\n",
       "      <td>0.8394</td>\n",
       "      <td>1.0000</td>\n",
       "      <td>0.8408</td>\n",
       "    </tr>\n",
       "    <tr>\n",
       "      <th>9</th>\n",
       "      <td>Decision Tree Classifier</td>\n",
       "      <td>[X_tr_smote, y_tr_smote]</td>\n",
       "      <td>[X_test, y_test]</td>\n",
       "      <td>1.0000</td>\n",
       "      <td>0.8333</td>\n",
       "      <td>1.0000</td>\n",
       "      <td>0.8323</td>\n",
       "      <td>1.0000</td>\n",
       "      <td>0.8336</td>\n",
       "    </tr>\n",
       "    <tr>\n",
       "      <th>21</th>\n",
       "      <td>Decision Tree Classifier</td>\n",
       "      <td>[X_tr_smote_std, y_tr_smote]</td>\n",
       "      <td>[X_te_smote_std, y_test]</td>\n",
       "      <td>1.0000</td>\n",
       "      <td>0.8188</td>\n",
       "      <td>1.0000</td>\n",
       "      <td>0.8186</td>\n",
       "      <td>1.0000</td>\n",
       "      <td>0.8193</td>\n",
       "    </tr>\n",
       "    <tr>\n",
       "      <th>15</th>\n",
       "      <td>Decision Tree Classifier</td>\n",
       "      <td>[X_tr_std, y_tr_std]</td>\n",
       "      <td>[X_te_std, y_test]</td>\n",
       "      <td>1.0000</td>\n",
       "      <td>0.8116</td>\n",
       "      <td>1.0000</td>\n",
       "      <td>0.8106</td>\n",
       "      <td>1.0000</td>\n",
       "      <td>0.8120</td>\n",
       "    </tr>\n",
       "    <tr>\n",
       "      <th>8</th>\n",
       "      <td>SVC</td>\n",
       "      <td>[X_tr_smote, y_tr_smote]</td>\n",
       "      <td>[X_test, y_test]</td>\n",
       "      <td>0.7546</td>\n",
       "      <td>0.7826</td>\n",
       "      <td>0.7540</td>\n",
       "      <td>0.7824</td>\n",
       "      <td>0.7540</td>\n",
       "      <td>0.7831</td>\n",
       "    </tr>\n",
       "    <tr>\n",
       "      <th>2</th>\n",
       "      <td>SVC</td>\n",
       "      <td>[X_tr_imb, y_tr_imb]</td>\n",
       "      <td>[X_test, y_test]</td>\n",
       "      <td>0.7513</td>\n",
       "      <td>0.7609</td>\n",
       "      <td>0.7486</td>\n",
       "      <td>0.7587</td>\n",
       "      <td>0.7514</td>\n",
       "      <td>0.7610</td>\n",
       "    </tr>\n",
       "  </tbody>\n",
       "</table>\n",
       "</div>"
      ],
      "text/plain": [
       "                       Model                    train_data  \\\n",
       "20                       SVC  [X_tr_smote_std, y_tr_smote]   \n",
       "22             Random Forest  [X_tr_smote_std, y_tr_smote]   \n",
       "10             Random Forest      [X_tr_smote, y_tr_smote]   \n",
       "18       Logistic Regression  [X_tr_smote_std, y_tr_smote]   \n",
       "16             Random Forest          [X_tr_std, y_tr_std]   \n",
       "12       Logistic Regression          [X_tr_std, y_tr_std]   \n",
       "4              Random Forest          [X_tr_imb, y_tr_imb]   \n",
       "14                       SVC          [X_tr_std, y_tr_std]   \n",
       "11                  LightGBM      [X_tr_smote, y_tr_smote]   \n",
       "23                  LightGBM  [X_tr_smote_std, y_tr_smote]   \n",
       "0        Logistic Regression          [X_tr_imb, y_tr_imb]   \n",
       "17                  LightGBM          [X_tr_std, y_tr_std]   \n",
       "5                   LightGBM          [X_tr_imb, y_tr_imb]   \n",
       "1                Naive Bayes          [X_tr_imb, y_tr_imb]   \n",
       "13               Naive Bayes          [X_tr_std, y_tr_std]   \n",
       "7                Naive Bayes      [X_tr_smote, y_tr_smote]   \n",
       "6        Logistic Regression      [X_tr_smote, y_tr_smote]   \n",
       "19               Naive Bayes  [X_tr_smote_std, y_tr_smote]   \n",
       "3   Decision Tree Classifier          [X_tr_imb, y_tr_imb]   \n",
       "9   Decision Tree Classifier      [X_tr_smote, y_tr_smote]   \n",
       "21  Decision Tree Classifier  [X_tr_smote_std, y_tr_smote]   \n",
       "15  Decision Tree Classifier          [X_tr_std, y_tr_std]   \n",
       "8                        SVC      [X_tr_smote, y_tr_smote]   \n",
       "2                        SVC          [X_tr_imb, y_tr_imb]   \n",
       "\n",
       "                   test_data  train_f1_micro  test_f1_micro  train_f1_macro  \\\n",
       "20  [X_te_smote_std, y_test]          0.9109         0.9203          0.9108   \n",
       "22  [X_te_smote_std, y_test]          1.0000         0.9130          1.0000   \n",
       "10          [X_test, y_test]          1.0000         0.9058          1.0000   \n",
       "18  [X_te_smote_std, y_test]          0.8796         0.9058          0.8796   \n",
       "16        [X_te_std, y_test]          1.0000         0.9058          1.0000   \n",
       "12        [X_te_std, y_test]          0.8679         0.8986          0.8657   \n",
       "4           [X_test, y_test]          1.0000         0.8986          1.0000   \n",
       "14        [X_te_std, y_test]          0.9013         0.8913          0.8995   \n",
       "11          [X_test, y_test]          1.0000         0.8913          1.0000   \n",
       "23  [X_te_smote_std, y_test]          1.0000         0.8913          1.0000   \n",
       "0           [X_test, y_test]          0.8692         0.8841          0.8671   \n",
       "17        [X_te_std, y_test]          1.0000         0.8768          1.0000   \n",
       "5           [X_test, y_test]          1.0000         0.8768          1.0000   \n",
       "1           [X_test, y_test]          0.8551         0.8623          0.8535   \n",
       "13        [X_te_std, y_test]          0.8551         0.8623          0.8535   \n",
       "7           [X_test, y_test]          0.8692         0.8623          0.8692   \n",
       "6           [X_test, y_test]          0.8750         0.8623          0.8750   \n",
       "19  [X_te_smote_std, y_test]          0.8692         0.8623          0.8692   \n",
       "3           [X_test, y_test]          1.0000         0.8406          1.0000   \n",
       "9           [X_test, y_test]          1.0000         0.8333          1.0000   \n",
       "21  [X_te_smote_std, y_test]          1.0000         0.8188          1.0000   \n",
       "15        [X_te_std, y_test]          1.0000         0.8116          1.0000   \n",
       "8           [X_test, y_test]          0.7546         0.7826          0.7540   \n",
       "2           [X_test, y_test]          0.7513         0.7609          0.7486   \n",
       "\n",
       "    test_f1_macro  train_f1_weighted  test_f1_weighted  \n",
       "20         0.9196             0.9108            0.9203  \n",
       "22         0.9121             1.0000            0.9130  \n",
       "10         0.9047             1.0000            0.9057  \n",
       "18         0.9050             0.8796            0.9059  \n",
       "16         0.9047             1.0000            0.9057  \n",
       "12         0.8975             0.8676            0.8986  \n",
       "4          0.8975             1.0000            0.8986  \n",
       "14         0.8896             0.9009            0.8910  \n",
       "11         0.8908             1.0000            0.8916  \n",
       "23         0.8908             1.0000            0.8916  \n",
       "0          0.8825             0.8689            0.8839  \n",
       "17         0.8760             1.0000            0.8770  \n",
       "5          0.8760             1.0000            0.8770  \n",
       "1          0.8607             0.8551            0.8622  \n",
       "13         0.8607             0.8551            0.8622  \n",
       "7          0.8607             0.8692            0.8622  \n",
       "6          0.8607             0.8750            0.8622  \n",
       "19         0.8607             0.8692            0.8622  \n",
       "3          0.8394             1.0000            0.8408  \n",
       "9          0.8323             1.0000            0.8336  \n",
       "21         0.8186             1.0000            0.8193  \n",
       "15         0.8106             1.0000            0.8120  \n",
       "8          0.7824             0.7540            0.7831  \n",
       "2          0.7587             0.7514            0.7610  "
      ]
     },
     "execution_count": 21,
     "metadata": {},
     "output_type": "execute_result"
    }
   ],
   "source": [
    "results_df = pd.DataFrame(results)\n",
    "results_df.sort_values(by=['test_f1_micro'], ascending=[False], inplace=True)\n",
    "results_df"
   ]
  },
  {
   "cell_type": "markdown",
   "id": "1ba75b9e-974f-4ad4-8ccc-4dbcbb30a265",
   "metadata": {},
   "source": [
    "**Observation:**\n",
    "\n",
    "    1. Random Forest and SVC are top models to tune\n",
    "    2. [X_tr_smote_std, y_tr_smote] is top data feature set\n",
    "    3. RF top model and 3rd model is slightly overfitting\n",
    "    4. SVC 2nd top model is slightly underfitting to correct fit "
   ]
  },
  {
   "cell_type": "markdown",
   "id": "3ade7556-8730-4cd9-b845-a949a7a516a6",
   "metadata": {},
   "source": [
    "#### Tuning top models"
   ]
  },
  {
   "cell_type": "code",
   "execution_count": 24,
   "id": "266b5643-26dd-4f5b-8385-3289375d6cd7",
   "metadata": {},
   "outputs": [
    {
     "data": {
      "text/html": [
       "<div>\n",
       "<style scoped>\n",
       "    .dataframe tbody tr th:only-of-type {\n",
       "        vertical-align: middle;\n",
       "    }\n",
       "\n",
       "    .dataframe tbody tr th {\n",
       "        vertical-align: top;\n",
       "    }\n",
       "\n",
       "    .dataframe thead th {\n",
       "        text-align: right;\n",
       "    }\n",
       "</style>\n",
       "<table border=\"1\" class=\"dataframe\">\n",
       "  <thead>\n",
       "    <tr style=\"text-align: right;\">\n",
       "      <th></th>\n",
       "      <th>Model</th>\n",
       "      <th>train_data</th>\n",
       "      <th>test_data</th>\n",
       "      <th>train_f1_micro</th>\n",
       "      <th>test_f1_micro</th>\n",
       "      <th>train_f1_macro</th>\n",
       "      <th>test_f1_macro</th>\n",
       "      <th>train_f1_weighted</th>\n",
       "      <th>test_f1_weighted</th>\n",
       "    </tr>\n",
       "  </thead>\n",
       "  <tbody>\n",
       "    <tr>\n",
       "      <th>20</th>\n",
       "      <td>SVC</td>\n",
       "      <td>[X_tr_smote_std, y_tr_smote]</td>\n",
       "      <td>[X_te_smote_std, y_test]</td>\n",
       "      <td>0.9109</td>\n",
       "      <td>0.9203</td>\n",
       "      <td>0.9108</td>\n",
       "      <td>0.9196</td>\n",
       "      <td>0.9108</td>\n",
       "      <td>0.9203</td>\n",
       "    </tr>\n",
       "    <tr>\n",
       "      <th>22</th>\n",
       "      <td>Random Forest</td>\n",
       "      <td>[X_tr_smote_std, y_tr_smote]</td>\n",
       "      <td>[X_te_smote_std, y_test]</td>\n",
       "      <td>1.0000</td>\n",
       "      <td>0.9130</td>\n",
       "      <td>1.0000</td>\n",
       "      <td>0.9121</td>\n",
       "      <td>1.0000</td>\n",
       "      <td>0.9130</td>\n",
       "    </tr>\n",
       "    <tr>\n",
       "      <th>10</th>\n",
       "      <td>Random Forest</td>\n",
       "      <td>[X_tr_smote, y_tr_smote]</td>\n",
       "      <td>[X_test, y_test]</td>\n",
       "      <td>1.0000</td>\n",
       "      <td>0.9058</td>\n",
       "      <td>1.0000</td>\n",
       "      <td>0.9047</td>\n",
       "      <td>1.0000</td>\n",
       "      <td>0.9057</td>\n",
       "    </tr>\n",
       "  </tbody>\n",
       "</table>\n",
       "</div>"
      ],
      "text/plain": [
       "            Model                    train_data                 test_data  \\\n",
       "20            SVC  [X_tr_smote_std, y_tr_smote]  [X_te_smote_std, y_test]   \n",
       "22  Random Forest  [X_tr_smote_std, y_tr_smote]  [X_te_smote_std, y_test]   \n",
       "10  Random Forest      [X_tr_smote, y_tr_smote]          [X_test, y_test]   \n",
       "\n",
       "    train_f1_micro  test_f1_micro  train_f1_macro  test_f1_macro  \\\n",
       "20          0.9109         0.9203          0.9108         0.9196   \n",
       "22          1.0000         0.9130          1.0000         0.9121   \n",
       "10          1.0000         0.9058          1.0000         0.9047   \n",
       "\n",
       "    train_f1_weighted  test_f1_weighted  \n",
       "20             0.9108            0.9203  \n",
       "22             1.0000            0.9130  \n",
       "10             1.0000            0.9057  "
      ]
     },
     "execution_count": 24,
     "metadata": {},
     "output_type": "execute_result"
    }
   ],
   "source": [
    "results_df[:3]"
   ]
  },
  {
   "cell_type": "code",
   "execution_count": 85,
   "id": "fbfdf164-1b32-4245-947e-1d7d06cc595e",
   "metadata": {},
   "outputs": [
    {
     "name": "stderr",
     "output_type": "stream",
     "text": [
      "  0%|                                                                                            | 0/1 [00:00<?, ?it/s]"
     ]
    },
    {
     "name": "stdout",
     "output_type": "stream",
     "text": [
      "Fitting 5 folds for each of 10 candidates, totalling 50 fits\n"
     ]
    },
    {
     "name": "stderr",
     "output_type": "stream",
     "text": [
      "100%|████████████████████████████████████████████████████████████████████████████████████| 1/1 [00:08<00:00,  8.07s/it]\n",
      "  0%|                                                                                            | 0/2 [00:00<?, ?it/s]"
     ]
    },
    {
     "name": "stdout",
     "output_type": "stream",
     "text": [
      "Fitting 5 folds for each of 10 candidates, totalling 50 fits\n"
     ]
    },
    {
     "name": "stderr",
     "output_type": "stream",
     "text": [
      " 50%|██████████████████████████████████████████                                          | 1/2 [00:08<00:08,  8.25s/it]"
     ]
    },
    {
     "name": "stdout",
     "output_type": "stream",
     "text": [
      "Fitting 5 folds for each of 10 candidates, totalling 50 fits\n"
     ]
    },
    {
     "name": "stderr",
     "output_type": "stream",
     "text": [
      "100%|████████████████████████████████████████████████████████████████████████████████████| 2/2 [00:09<00:00,  4.58s/it]"
     ]
    },
    {
     "name": "stdout",
     "output_type": "stream",
     "text": [
      "CPU times: total: 3.27 s\n",
      "Wall time: 17.3 s\n"
     ]
    },
    {
     "name": "stderr",
     "output_type": "stream",
     "text": [
      "\n"
     ]
    }
   ],
   "source": [
    "%%time\n",
    "random.seed(42)\n",
    "results = []\n",
    "results += train_models('[X_tr_imb, y_tr_imb]', '[X_test, y_test]', tune=True, scoring=['accuracy', 'f1'], models={'Random Forest': RandomForestClassifier()})\n",
    "\n",
    "results += train_models('[X_tr_smote_std, y_tr_smote]', '[X_te_smote_std, y_test]', tune=True, scoring=['accuracy', 'f1'], models={'Random Forest': RandomForestClassifier(),\n",
    "                                                                                                                                                'SVC': SVC()})"
   ]
  },
  {
   "cell_type": "code",
   "execution_count": 86,
   "id": "0f77394a-e468-478d-9090-f5e4766fbcc7",
   "metadata": {},
   "outputs": [
    {
     "data": {
      "text/html": [
       "<div>\n",
       "<style scoped>\n",
       "    .dataframe tbody tr th:only-of-type {\n",
       "        vertical-align: middle;\n",
       "    }\n",
       "\n",
       "    .dataframe tbody tr th {\n",
       "        vertical-align: top;\n",
       "    }\n",
       "\n",
       "    .dataframe thead th {\n",
       "        text-align: right;\n",
       "    }\n",
       "</style>\n",
       "<table border=\"1\" class=\"dataframe\">\n",
       "  <thead>\n",
       "    <tr style=\"text-align: right;\">\n",
       "      <th></th>\n",
       "      <th>Model</th>\n",
       "      <th>train_data</th>\n",
       "      <th>test_data</th>\n",
       "      <th>train_f1_micro</th>\n",
       "      <th>test_f1_micro</th>\n",
       "      <th>train_f1_macro</th>\n",
       "      <th>test_f1_macro</th>\n",
       "      <th>train_f1_weighted</th>\n",
       "      <th>test_f1_weighted</th>\n",
       "    </tr>\n",
       "  </thead>\n",
       "  <tbody>\n",
       "    <tr>\n",
       "      <th>1</th>\n",
       "      <td>Random Forest</td>\n",
       "      <td>[X_tr_smote_std, y_tr_smote]</td>\n",
       "      <td>[X_te_smote_std, y_test]</td>\n",
       "      <td>0.9028</td>\n",
       "      <td>0.9058</td>\n",
       "      <td>0.9027</td>\n",
       "      <td>0.9050</td>\n",
       "      <td>0.9027</td>\n",
       "      <td>0.9059</td>\n",
       "    </tr>\n",
       "    <tr>\n",
       "      <th>0</th>\n",
       "      <td>Random Forest</td>\n",
       "      <td>[X_tr_imb, y_tr_imb]</td>\n",
       "      <td>[X_test, y_test]</td>\n",
       "      <td>0.8962</td>\n",
       "      <td>0.8841</td>\n",
       "      <td>0.8940</td>\n",
       "      <td>0.8821</td>\n",
       "      <td>0.8956</td>\n",
       "      <td>0.8836</td>\n",
       "    </tr>\n",
       "    <tr>\n",
       "      <th>2</th>\n",
       "      <td>SVC</td>\n",
       "      <td>[X_tr_smote_std, y_tr_smote]</td>\n",
       "      <td>[X_te_smote_std, y_test]</td>\n",
       "      <td>0.8796</td>\n",
       "      <td>0.8768</td>\n",
       "      <td>0.8796</td>\n",
       "      <td>0.8749</td>\n",
       "      <td>0.8796</td>\n",
       "      <td>0.8765</td>\n",
       "    </tr>\n",
       "  </tbody>\n",
       "</table>\n",
       "</div>"
      ],
      "text/plain": [
       "           Model                    train_data                 test_data  \\\n",
       "1  Random Forest  [X_tr_smote_std, y_tr_smote]  [X_te_smote_std, y_test]   \n",
       "0  Random Forest          [X_tr_imb, y_tr_imb]          [X_test, y_test]   \n",
       "2            SVC  [X_tr_smote_std, y_tr_smote]  [X_te_smote_std, y_test]   \n",
       "\n",
       "   train_f1_micro  test_f1_micro  train_f1_macro  test_f1_macro  \\\n",
       "1          0.9028         0.9058          0.9027         0.9050   \n",
       "0          0.8962         0.8841          0.8940         0.8821   \n",
       "2          0.8796         0.8768          0.8796         0.8749   \n",
       "\n",
       "   train_f1_weighted  test_f1_weighted  \n",
       "1             0.9027            0.9059  \n",
       "0             0.8956            0.8836  \n",
       "2             0.8796            0.8765  "
      ]
     },
     "execution_count": 86,
     "metadata": {},
     "output_type": "execute_result"
    }
   ],
   "source": [
    "results_df = pd.DataFrame(results)\n",
    "results_df.sort_values(by=['test_f1_micro'], ascending=[False], inplace=True)\n",
    "results_df"
   ]
  },
  {
   "cell_type": "markdown",
   "id": "3c6b4eee-a919-4853-af7d-fe05fccbc481",
   "metadata": {},
   "source": [
    "**Observation:**\n",
    "\n",
    "      1. We can see that all three models are fit correctly\n",
    "      2. We can see that Random Forest with smote upsampled and standard scaled data is performing best"
   ]
  },
  {
   "cell_type": "markdown",
   "id": "1944cf82-1821-470e-899f-fd302c8fcb12",
   "metadata": {},
   "source": [
    "#### Top model and feature set selected"
   ]
  },
  {
   "cell_type": "code",
   "execution_count": 37,
   "id": "0cca5ad0-91d2-426c-8026-56515fc1f8c2",
   "metadata": {},
   "outputs": [],
   "source": [
    "models = load_models()\n",
    "model_params = load_model_params()"
   ]
  },
  {
   "cell_type": "code",
   "execution_count": 39,
   "id": "0354c36a-1b9d-43fa-bc4f-b1aa0a97d188",
   "metadata": {},
   "outputs": [],
   "source": [
    "model = models['Random Forest']\n",
    "param_grid = model_params['Random Forest']"
   ]
  },
  {
   "cell_type": "code",
   "execution_count": 103,
   "id": "2ec99757-cacb-4c89-8b87-fca67c565e34",
   "metadata": {},
   "outputs": [
    {
     "name": "stdout",
     "output_type": "stream",
     "text": [
      "Fitting 4 folds for each of 20 candidates, totalling 80 fits\n",
      "Best model parameters: {'bootstrap': True, 'ccp_alpha': 0.0, 'class_weight': None, 'criterion': 'gini', 'max_depth': 80, 'max_features': 'sqrt', 'max_leaf_nodes': None, 'max_samples': None, 'min_impurity_decrease': 0.0, 'min_samples_leaf': 8, 'min_samples_split': 6, 'min_weight_fraction_leaf': 0.0, 'n_estimators': 1000, 'n_jobs': None, 'oob_score': False, 'random_state': None, 'verbose': 0, 'warm_start': False}\n",
      "\n",
      "\n",
      "Best score: 0.8831018518518519\n"
     ]
    }
   ],
   "source": [
    "random.seed(42)\n",
    "best_model, best_score = tune_model('random', model, param_grid, train_feature_sets['[X_tr_smote_std, y_tr_smote]'][0], \n",
    "                        train_feature_sets['[X_tr_smote_std, y_tr_smote]'][1], scoring=['accuracy', 'f1'], n_iter=20, cv=4, random_state=42)\n",
    "\n",
    "print('Best model parameters:', best_model.get_params())\n",
    "print('\\n')\n",
    "print('Best score:', best_score)"
   ]
  },
  {
   "cell_type": "code",
   "execution_count": 105,
   "id": "efce8814-45cf-44f9-9513-62f703d12fa7",
   "metadata": {},
   "outputs": [
    {
     "name": "stdout",
     "output_type": "stream",
     "text": [
      "micro f1_score- train_f1_micro: 0.9028 test_f1_micro: 0.9058 \n",
      "\n",
      "Classification Report on train data:\n",
      "               precision    recall  f1-score   support\n",
      "\n",
      "           0       0.93      0.87      0.90       432\n",
      "           1       0.88      0.93      0.91       432\n",
      "\n",
      "    accuracy                           0.90       864\n",
      "   macro avg       0.90      0.90      0.90       864\n",
      "weighted avg       0.90      0.90      0.90       864\n",
      " \n",
      "\n",
      "Classification Report on test data:\n",
      "               precision    recall  f1-score   support\n",
      "\n",
      "           0       0.89      0.90      0.90        62\n",
      "           1       0.92      0.91      0.91        76\n",
      "\n",
      "    accuracy                           0.91       138\n",
      "   macro avg       0.90      0.91      0.90       138\n",
      "weighted avg       0.91      0.91      0.91       138\n",
      "\n",
      "\n",
      "\n"
     ]
    },
    {
     "data": {
      "image/png": "[encoded data removed]",
      "text/plain": [
       "<Figure size 900x300 with 2 Axes>"
      ]
     },
     "metadata": {},
     "output_type": "display_data"
    },
    {
     "data": {
      "image/png": "[encoded data removed]",
      "text/plain": [
       "<Figure size 600x400 with 1 Axes>"
      ]
     },
     "metadata": {},
     "output_type": "display_data"
    },
    {
     "data": {
      "image/png": "[encoded data removed]",
      "text/plain": [
       "<Figure size 600x400 with 1 Axes>"
      ]
     },
     "metadata": {},
     "output_type": "display_data"
    }
   ],
   "source": [
    "evaluate_model(best_model, train_feature_sets['[X_tr_smote_std, y_tr_smote]'][0], \n",
    "               train_feature_sets['[X_tr_smote_std, y_tr_smote]'][1], X_te_smote_std, y_test)"
   ]
  },
  {
   "cell_type": "code",
   "execution_count": 107,
   "id": "6c4c0e47-c67f-4300-b8ca-e918247575ad",
   "metadata": {},
   "outputs": [
    {
     "data": {
      "text/plain": [
       "{'bootstrap': True,\n",
       " 'ccp_alpha': 0.0,\n",
       " 'class_weight': None,\n",
       " 'criterion': 'gini',\n",
       " 'max_depth': 80,\n",
       " 'max_features': 'sqrt',\n",
       " 'max_leaf_nodes': None,\n",
       " 'max_samples': None,\n",
       " 'min_impurity_decrease': 0.0,\n",
       " 'min_samples_leaf': 8,\n",
       " 'min_samples_split': 6,\n",
       " 'min_weight_fraction_leaf': 0.0,\n",
       " 'n_estimators': 1000,\n",
       " 'n_jobs': None,\n",
       " 'oob_score': False,\n",
       " 'random_state': None,\n",
       " 'verbose': 0,\n",
       " 'warm_start': False}"
      ]
     },
     "execution_count": 107,
     "metadata": {},
     "output_type": "execute_result"
    }
   ],
   "source": [
    "with open(r'.\\final_model\\train_data.pkl', 'wb') as f:\n",
    "    pickle.dump(train_feature_sets['[X_tr_smote_std, y_tr_smote]'], f)\n",
    "\n",
    "with open(r'.\\final_model\\test_data.pkl', 'wb') as f:\n",
    "    pickle.dump([X_te_smote_std, y_test], f)\n",
    "\n",
    "with open(r'.\\final_model\\final_model.pkl', 'wb') as f:\n",
    "    pickle.dump(best_model, f)\n",
    "\n",
    "best_model.get_params()"
   ]
  },
  {
   "cell_type": "markdown",
   "id": "7fc2de24-a3ea-45c4-b4b3-b88b7289525f",
   "metadata": {},
   "source": [
    "#### Feature Importance"
   ]
  },
  {
   "cell_type": "code",
   "execution_count": 126,
   "id": "8652f290-7ea1-434d-9f7d-3b609ca33208",
   "metadata": {},
   "outputs": [
    {
     "data": {
      "image/png": "[encoded data removed]",
      "text/plain": [
       "<Figure size 1000x1000 with 1 Axes>"
      ]
     },
     "metadata": {},
     "output_type": "display_data"
    }
   ],
   "source": [
    "# Extract coefficients and feature names\n",
    "importances = best_model.feature_importances_\n",
    "\n",
    "# Create a DataFrame for better visualization\n",
    "feature_importance= pd.DataFrame({\n",
    "    'Feature': X_te_smote_std.columns,\n",
    "    'Importance': importances,\n",
    "    'Absolute_Importance': np.abs(importances)\n",
    "}).sort_values(by='Importance', ascending=False).reset_index(drop=True)\n",
    "\n",
    "# print(feature_importance_df)\n",
    "\n",
    "# Plot feature importances\n",
    "plt.figure(figsize=(10, 10))\n",
    "plt.barh(feature_importance['Feature'], feature_importance['Importance'])\n",
    "plt.xlabel('Importance')\n",
    "plt.ylabel('Feature')\n",
    "plt.title('Feature Importances from Random Forest')\n",
    "plt.gca().invert_yaxis()\n",
    "plt.show()"
   ]
  },
  {
   "cell_type": "code",
   "execution_count": 127,
   "id": "1ccb7902-1b73-4dca-8d55-25e04905043a",
   "metadata": {},
   "outputs": [
    {
     "data": {
      "text/html": [
       "<div>\n",
       "<style scoped>\n",
       "    .dataframe tbody tr th:only-of-type {\n",
       "        vertical-align: middle;\n",
       "    }\n",
       "\n",
       "    .dataframe tbody tr th {\n",
       "        vertical-align: top;\n",
       "    }\n",
       "\n",
       "    .dataframe thead th {\n",
       "        text-align: right;\n",
       "    }\n",
       "</style>\n",
       "<table border=\"1\" class=\"dataframe\">\n",
       "  <thead>\n",
       "    <tr style=\"text-align: right;\">\n",
       "      <th></th>\n",
       "      <th>Feature</th>\n",
       "      <th>Importance</th>\n",
       "      <th>Absolute_Importance</th>\n",
       "      <th>%age_explanability</th>\n",
       "    </tr>\n",
       "  </thead>\n",
       "  <tbody>\n",
       "    <tr>\n",
       "      <th>0</th>\n",
       "      <td>New_Risk_Score</td>\n",
       "      <td>0.278675</td>\n",
       "      <td>0.278675</td>\n",
       "      <td>27.87</td>\n",
       "    </tr>\n",
       "    <tr>\n",
       "      <th>1</th>\n",
       "      <td>ST_Slope_flat</td>\n",
       "      <td>0.145690</td>\n",
       "      <td>0.145690</td>\n",
       "      <td>14.57</td>\n",
       "    </tr>\n",
       "    <tr>\n",
       "      <th>2</th>\n",
       "      <td>ST_Slope_up</td>\n",
       "      <td>0.126432</td>\n",
       "      <td>0.126432</td>\n",
       "      <td>12.64</td>\n",
       "    </tr>\n",
       "    <tr>\n",
       "      <th>3</th>\n",
       "      <td>ChestPainType_asy</td>\n",
       "      <td>0.087279</td>\n",
       "      <td>0.087279</td>\n",
       "      <td>8.73</td>\n",
       "    </tr>\n",
       "    <tr>\n",
       "      <th>4</th>\n",
       "      <td>ExerciseAngina</td>\n",
       "      <td>0.081119</td>\n",
       "      <td>0.081119</td>\n",
       "      <td>8.11</td>\n",
       "    </tr>\n",
       "    <tr>\n",
       "      <th>5</th>\n",
       "      <td>Oldpeak</td>\n",
       "      <td>0.058653</td>\n",
       "      <td>0.058653</td>\n",
       "      <td>5.87</td>\n",
       "    </tr>\n",
       "    <tr>\n",
       "      <th>6</th>\n",
       "      <td>MaxHR</td>\n",
       "      <td>0.045441</td>\n",
       "      <td>0.045441</td>\n",
       "      <td>4.54</td>\n",
       "    </tr>\n",
       "    <tr>\n",
       "      <th>7</th>\n",
       "      <td>Cholesterol</td>\n",
       "      <td>0.038880</td>\n",
       "      <td>0.038880</td>\n",
       "      <td>3.89</td>\n",
       "    </tr>\n",
       "    <tr>\n",
       "      <th>8</th>\n",
       "      <td>Sex</td>\n",
       "      <td>0.027481</td>\n",
       "      <td>0.027481</td>\n",
       "      <td>2.75</td>\n",
       "    </tr>\n",
       "    <tr>\n",
       "      <th>9</th>\n",
       "      <td>Age</td>\n",
       "      <td>0.023274</td>\n",
       "      <td>0.023274</td>\n",
       "      <td>2.33</td>\n",
       "    </tr>\n",
       "    <tr>\n",
       "      <th>10</th>\n",
       "      <td>RestingBP</td>\n",
       "      <td>0.019061</td>\n",
       "      <td>0.019061</td>\n",
       "      <td>1.91</td>\n",
       "    </tr>\n",
       "    <tr>\n",
       "      <th>11</th>\n",
       "      <td>New_Cholesterol_Bin_zero</td>\n",
       "      <td>0.015725</td>\n",
       "      <td>0.015725</td>\n",
       "      <td>1.57</td>\n",
       "    </tr>\n",
       "    <tr>\n",
       "      <th>12</th>\n",
       "      <td>ChestPainType_ata</td>\n",
       "      <td>0.012608</td>\n",
       "      <td>0.012608</td>\n",
       "      <td>1.26</td>\n",
       "    </tr>\n",
       "    <tr>\n",
       "      <th>13</th>\n",
       "      <td>FastingBS</td>\n",
       "      <td>0.011377</td>\n",
       "      <td>0.011377</td>\n",
       "      <td>1.14</td>\n",
       "    </tr>\n",
       "    <tr>\n",
       "      <th>14</th>\n",
       "      <td>RestingECG_lvh</td>\n",
       "      <td>0.006012</td>\n",
       "      <td>0.006012</td>\n",
       "      <td>0.60</td>\n",
       "    </tr>\n",
       "    <tr>\n",
       "      <th>15</th>\n",
       "      <td>ST_Slope_down</td>\n",
       "      <td>0.005430</td>\n",
       "      <td>0.005430</td>\n",
       "      <td>0.54</td>\n",
       "    </tr>\n",
       "    <tr>\n",
       "      <th>16</th>\n",
       "      <td>ChestPainType_nap</td>\n",
       "      <td>0.005080</td>\n",
       "      <td>0.005080</td>\n",
       "      <td>0.51</td>\n",
       "    </tr>\n",
       "    <tr>\n",
       "      <th>17</th>\n",
       "      <td>RestingECG_normal</td>\n",
       "      <td>0.003603</td>\n",
       "      <td>0.003603</td>\n",
       "      <td>0.36</td>\n",
       "    </tr>\n",
       "    <tr>\n",
       "      <th>18</th>\n",
       "      <td>New_Cholesterol_Bin_high</td>\n",
       "      <td>0.002480</td>\n",
       "      <td>0.002480</td>\n",
       "      <td>0.25</td>\n",
       "    </tr>\n",
       "    <tr>\n",
       "      <th>19</th>\n",
       "      <td>New_Cholesterol_Bin_medium</td>\n",
       "      <td>0.002024</td>\n",
       "      <td>0.002024</td>\n",
       "      <td>0.20</td>\n",
       "    </tr>\n",
       "    <tr>\n",
       "      <th>20</th>\n",
       "      <td>RestingECG_st</td>\n",
       "      <td>0.001640</td>\n",
       "      <td>0.001640</td>\n",
       "      <td>0.16</td>\n",
       "    </tr>\n",
       "    <tr>\n",
       "      <th>21</th>\n",
       "      <td>ChestPainType_ta</td>\n",
       "      <td>0.001158</td>\n",
       "      <td>0.001158</td>\n",
       "      <td>0.12</td>\n",
       "    </tr>\n",
       "    <tr>\n",
       "      <th>22</th>\n",
       "      <td>New_Cholesterol_Bin_low</td>\n",
       "      <td>0.000879</td>\n",
       "      <td>0.000879</td>\n",
       "      <td>0.09</td>\n",
       "    </tr>\n",
       "  </tbody>\n",
       "</table>\n",
       "</div>"
      ],
      "text/plain": [
       "                       Feature  Importance  Absolute_Importance  \\\n",
       "0               New_Risk_Score    0.278675             0.278675   \n",
       "1                ST_Slope_flat    0.145690             0.145690   \n",
       "2                  ST_Slope_up    0.126432             0.126432   \n",
       "3            ChestPainType_asy    0.087279             0.087279   \n",
       "4               ExerciseAngina    0.081119             0.081119   \n",
       "5                      Oldpeak    0.058653             0.058653   \n",
       "6                        MaxHR    0.045441             0.045441   \n",
       "7                  Cholesterol    0.038880             0.038880   \n",
       "8                          Sex    0.027481             0.027481   \n",
       "9                          Age    0.023274             0.023274   \n",
       "10                   RestingBP    0.019061             0.019061   \n",
       "11    New_Cholesterol_Bin_zero    0.015725             0.015725   \n",
       "12           ChestPainType_ata    0.012608             0.012608   \n",
       "13                   FastingBS    0.011377             0.011377   \n",
       "14              RestingECG_lvh    0.006012             0.006012   \n",
       "15               ST_Slope_down    0.005430             0.005430   \n",
       "16           ChestPainType_nap    0.005080             0.005080   \n",
       "17           RestingECG_normal    0.003603             0.003603   \n",
       "18    New_Cholesterol_Bin_high    0.002480             0.002480   \n",
       "19  New_Cholesterol_Bin_medium    0.002024             0.002024   \n",
       "20               RestingECG_st    0.001640             0.001640   \n",
       "21            ChestPainType_ta    0.001158             0.001158   \n",
       "22     New_Cholesterol_Bin_low    0.000879             0.000879   \n",
       "\n",
       "    %age_explanability  \n",
       "0                27.87  \n",
       "1                14.57  \n",
       "2                12.64  \n",
       "3                 8.73  \n",
       "4                 8.11  \n",
       "5                 5.87  \n",
       "6                 4.54  \n",
       "7                 3.89  \n",
       "8                 2.75  \n",
       "9                 2.33  \n",
       "10                1.91  \n",
       "11                1.57  \n",
       "12                1.26  \n",
       "13                1.14  \n",
       "14                0.60  \n",
       "15                0.54  \n",
       "16                0.51  \n",
       "17                0.36  \n",
       "18                0.25  \n",
       "19                0.20  \n",
       "20                0.16  \n",
       "21                0.12  \n",
       "22                0.09  "
      ]
     },
     "execution_count": 127,
     "metadata": {},
     "output_type": "execute_result"
    }
   ],
   "source": [
    "feature_importance['%age_explanability'] = round(feature_importance['Absolute_Importance'] / feature_importance['Absolute_Importance'].sum() * 100,2)\n",
    "feature_importance"
   ]
  },
  {
   "cell_type": "markdown",
   "id": "96c1f55c-7f82-4514-846c-69ea73e3722a",
   "metadata": {},
   "source": [
    "**Lets try with tune the model with top 14 features**"
   ]
  },
  {
   "cell_type": "code",
   "execution_count": 173,
   "id": "a6c75ca7-b7f3-4892-ae2c-f110db09aff0",
   "metadata": {},
   "outputs": [
    {
     "data": {
      "text/plain": [
       "97.17999999999999"
      ]
     },
     "execution_count": 173,
     "metadata": {},
     "output_type": "execute_result"
    }
   ],
   "source": [
    "# variance explained by top 14 features\n",
    "feature_importance[feature_importance['%age_explanability'] >= 1]['%age_explanability'].sum()"
   ]
  },
  {
   "cell_type": "code",
   "execution_count": 175,
   "id": "80886ba4-c820-41d9-a57d-028148f28452",
   "metadata": {},
   "outputs": [
    {
     "data": {
      "text/plain": [
       "['New_Risk_Score',\n",
       " 'ST_Slope_flat',\n",
       " 'ST_Slope_up',\n",
       " 'ChestPainType_asy',\n",
       " 'ExerciseAngina',\n",
       " 'Oldpeak',\n",
       " 'MaxHR',\n",
       " 'Cholesterol',\n",
       " 'Sex',\n",
       " 'Age',\n",
       " 'RestingBP',\n",
       " 'New_Cholesterol_Bin_zero',\n",
       " 'ChestPainType_ata',\n",
       " 'FastingBS']"
      ]
     },
     "execution_count": 175,
     "metadata": {},
     "output_type": "execute_result"
    }
   ],
   "source": [
    "Top_features = feature_importance[feature_importance['%age_explanability'] >= 1]['Feature'].to_list()\n",
    "Top_features"
   ]
  },
  {
   "cell_type": "code",
   "execution_count": 177,
   "id": "9cd5c2b0-c1f6-45a4-931d-14e3950dada5",
   "metadata": {},
   "outputs": [],
   "source": [
    "# train data\n",
    "X_train_sel_features = train_feature_sets['[X_tr_smote_std, y_tr_smote]'][0][Top_features]\n",
    "y_train_sel = train_feature_sets['[X_tr_smote_std, y_tr_smote]'][1]\n",
    "\n",
    "# test_data\n",
    "X_te_sel = X_te_smote_std[Top_features]"
   ]
  },
  {
   "cell_type": "code",
   "execution_count": 179,
   "id": "785db73e-0c60-4381-afa2-6cc8b3ff7993",
   "metadata": {},
   "outputs": [
    {
     "name": "stdout",
     "output_type": "stream",
     "text": [
      "Fitting 4 folds for each of 20 candidates, totalling 80 fits\n",
      "Best model parameters: {'bootstrap': True, 'ccp_alpha': 0.0, 'class_weight': None, 'criterion': 'gini', 'max_depth': 100, 'max_features': 'sqrt', 'max_leaf_nodes': None, 'max_samples': 0.7, 'min_impurity_decrease': 0.0, 'min_samples_leaf': 6, 'min_samples_split': 12, 'min_weight_fraction_leaf': 0.0, 'n_estimators': 800, 'n_jobs': None, 'oob_score': False, 'random_state': None, 'verbose': 0, 'warm_start': False}\n",
      "\n",
      "\n",
      "Best score: 0.8819444444444444\n"
     ]
    }
   ],
   "source": [
    "random.seed(42)\n",
    "best_model, best_score = tune_model('random', model, param_grid, X_train_sel_features, \n",
    "                        y_train_sel, scoring=['accuracy', 'f1'], n_iter=20, cv=4, random_state=42)\n",
    "\n",
    "print('Best model parameters:', best_model.get_params())\n",
    "print('\\n')\n",
    "print('Best score:', best_score)"
   ]
  },
  {
   "cell_type": "code",
   "execution_count": 180,
   "id": "ccebae02-8767-4d4e-9392-58d36b81d041",
   "metadata": {},
   "outputs": [
    {
     "name": "stdout",
     "output_type": "stream",
     "text": [
      "micro f1_score- train_f1_micro: 0.9051 test_f1_micro: 0.8913 \n",
      "\n",
      "Classification Report on train data:\n",
      "               precision    recall  f1-score   support\n",
      "\n",
      "           0       0.93      0.88      0.90       432\n",
      "           1       0.88      0.93      0.91       432\n",
      "\n",
      "    accuracy                           0.91       864\n",
      "   macro avg       0.91      0.91      0.91       864\n",
      "weighted avg       0.91      0.91      0.91       864\n",
      " \n",
      "\n",
      "Classification Report on test data:\n",
      "               precision    recall  f1-score   support\n",
      "\n",
      "           0       0.89      0.87      0.88        62\n",
      "           1       0.90      0.91      0.90        76\n",
      "\n",
      "    accuracy                           0.89       138\n",
      "   macro avg       0.89      0.89      0.89       138\n",
      "weighted avg       0.89      0.89      0.89       138\n",
      "\n",
      "\n",
      "\n"
     ]
    },
    {
     "data": {
      "image/png": "[encoded data removed]",
      "text/plain": [
       "<Figure size 900x300 with 2 Axes>"
      ]
     },
     "metadata": {},
     "output_type": "display_data"
    },
    {
     "data": {
      "image/png": "[encoded data removed]",
      "text/plain": [
       "<Figure size 600x400 with 1 Axes>"
      ]
     },
     "metadata": {},
     "output_type": "display_data"
    },
    {
     "data": {
      "image/png": "[encoded data removed]",
      "text/plain": [
       "<Figure size 600x400 with 1 Axes>"
      ]
     },
     "metadata": {},
     "output_type": "display_data"
    }
   ],
   "source": [
    "evaluate_model(best_model, X_train_sel_features, y_train_sel, X_te_sel, y_test)"
   ]
  },
  {
   "cell_type": "markdown",
   "id": "777fcc49-07fe-4c89-aed8-66fafeb1148a",
   "metadata": {},
   "source": [
    "**Observation:** \n",
    "\n",
    "    1. We can see that model performance drop very marginally with top 14 features.\n",
    "    2. Performance metric varies more even with one mis-classification as data size is low.\n",
    "    3. For now, lets keep all the features in our model"
   ]
  },
  {
   "cell_type": "code",
   "execution_count": null,
   "id": "6b30c4a4-63ac-4aa1-9478-b5434b4ba44c",
   "metadata": {},
   "outputs": [],
   "source": []
  }
 ],
 "metadata": {
  "kernelspec": {
   "display_name": "Python 3 (ipykernel)",
   "language": "python",
   "name": "python3"
  },
  "language_info": {
   "codemirror_mode": {
    "name": "ipython",
    "version": 3
   },
   "file_extension": ".py",
   "mimetype": "text/x-python",
   "name": "python",
   "nbconvert_exporter": "python",
   "pygments_lexer": "ipython3",
   "version": "3.11.7"
  }
 },
 "nbformat": 4,
 "nbformat_minor": 5
}
