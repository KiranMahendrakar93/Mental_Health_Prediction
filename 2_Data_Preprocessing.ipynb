{
 "cells": [
  {
   "cell_type": "markdown",
   "id": "6288a3c7-ca93-4eed-899c-8fe83f7073ef",
   "metadata": {},
   "source": [
    "## Import Libraries and data"
   ]
  },
  {
   "cell_type": "code",
   "execution_count": 2,
   "id": "d7474207-0240-437b-9287-8dd9187b5f77",
   "metadata": {},
   "outputs": [],
   "source": [
    "import numpy as np\n",
    "import pandas as pd\n",
    "import matplotlib.pyplot as plt\n",
    "import seaborn as sns\n",
    "sns.set()\n",
    "%matplotlib inline\n",
    "\n",
    "import warnings\n",
    "warnings.filterwarnings(\"ignore\")\n",
    "\n",
    "import pickle\n",
    "\n",
    "from sklearn.model_selection import train_test_split\n",
    "from sklearn.preprocessing import QuantileTransformer\n",
    "from sklearn.tree import DecisionTreeRegressor\n",
    "from sklearn.preprocessing import StandardScaler, MinMaxScaler\n",
    "from sklearn.preprocessing import OneHotEncoder, OrdinalEncoder\n",
    "\n",
    "from scipy import stats\n",
    "from tqdm import tqdm\n",
    "\n",
    "from imblearn.over_sampling import SMOTE, ADASYN\n",
    "\n",
    "from utils import cap_values, categorize_value, calculate_risk_score"
   ]
  },
  {
   "cell_type": "code",
   "execution_count": 3,
   "id": "b09f2fe5-446b-44c3-a5f6-0adea9808535",
   "metadata": {},
   "outputs": [
    {
     "name": "stdout",
     "output_type": "stream",
     "text": [
      "<class 'pandas.core.frame.DataFrame'>\n",
      "RangeIndex: 918 entries, 0 to 917\n",
      "Data columns (total 12 columns):\n",
      " #   Column          Non-Null Count  Dtype  \n",
      "---  ------          --------------  -----  \n",
      " 0   Age             918 non-null    int64  \n",
      " 1   Sex             918 non-null    object \n",
      " 2   ChestPainType   918 non-null    object \n",
      " 3   RestingBP       918 non-null    int64  \n",
      " 4   Cholesterol     918 non-null    int64  \n",
      " 5   FastingBS       918 non-null    int64  \n",
      " 6   RestingECG      918 non-null    object \n",
      " 7   MaxHR           918 non-null    int64  \n",
      " 8   ExerciseAngina  918 non-null    object \n",
      " 9   Oldpeak         918 non-null    float64\n",
      " 10  ST_Slope        918 non-null    object \n",
      " 11  MentalHealth    918 non-null    int64  \n",
      "dtypes: float64(1), int64(6), object(5)\n",
      "memory usage: 86.2+ KB\n"
     ]
    }
   ],
   "source": [
    "df = pd.read_csv('df_cleaned.csv')\n",
    "df.info()"
   ]
  },
  {
   "cell_type": "code",
   "execution_count": 4,
   "id": "fea97c10-8573-4370-b04c-d6b5419e6056",
   "metadata": {},
   "outputs": [],
   "source": [
    "with open(r'.\\dumps\\categorical_columns.pkl', 'rb') as f:\n",
    "    categorical_cols = pickle.load(f)\n",
    "\n",
    "with open(r'.\\dumps\\numeric_columns.pkl', 'rb') as f:\n",
    "    numeric_cols = pickle.load(f)"
   ]
  },
  {
   "cell_type": "code",
   "execution_count": 5,
   "id": "dc3c8801-c7d9-4344-9dd5-85ae27df3397",
   "metadata": {},
   "outputs": [
    {
     "name": "stdout",
     "output_type": "stream",
     "text": [
      "<class 'pandas.core.frame.DataFrame'>\n",
      "RangeIndex: 918 entries, 0 to 917\n",
      "Data columns (total 12 columns):\n",
      " #   Column          Non-Null Count  Dtype  \n",
      "---  ------          --------------  -----  \n",
      " 0   Age             918 non-null    int64  \n",
      " 1   Sex             918 non-null    object \n",
      " 2   ChestPainType   918 non-null    object \n",
      " 3   RestingBP       918 non-null    int64  \n",
      " 4   Cholesterol     918 non-null    int64  \n",
      " 5   FastingBS       918 non-null    object \n",
      " 6   RestingECG      918 non-null    object \n",
      " 7   MaxHR           918 non-null    int64  \n",
      " 8   ExerciseAngina  918 non-null    object \n",
      " 9   Oldpeak         918 non-null    float64\n",
      " 10  ST_Slope        918 non-null    object \n",
      " 11  MentalHealth    918 non-null    int64  \n",
      "dtypes: float64(1), int64(5), object(6)\n",
      "memory usage: 86.2+ KB\n"
     ]
    }
   ],
   "source": [
    "df[categorical_cols] = df[categorical_cols].astype(str)\n",
    "df.info()"
   ]
  },
  {
   "cell_type": "markdown",
   "id": "9a3b6d98-34e0-4a95-a5db-a68951abec68",
   "metadata": {},
   "source": [
    "### Split the data"
   ]
  },
  {
   "cell_type": "code",
   "execution_count": 7,
   "id": "c617f5b2-9dea-4810-924c-61c4c4f4e609",
   "metadata": {},
   "outputs": [],
   "source": [
    "X = df.drop(['MentalHealth'], axis=1) # Features\n",
    "y = df['MentalHealth']   # Target"
   ]
  },
  {
   "cell_type": "code",
   "execution_count": 8,
   "id": "20a3e6f1-d4e5-45d1-8b9b-c1818d3fd8ce",
   "metadata": {},
   "outputs": [
    {
     "name": "stdout",
     "output_type": "stream",
     "text": [
      "train data shape (780, 11) (780,)\n",
      "test data shape (138, 11) (138,)\n"
     ]
    }
   ],
   "source": [
    "X_train, X_test, y_train, y_test = train_test_split(X,y, test_size=0.15, random_state=42, stratify = y)\n",
    "X_train = X_train.reset_index(drop=True)\n",
    "X_test = X_test.reset_index(drop=True)\n",
    "y_train = y_train.reset_index(drop=True)\n",
    "y_test = y_test.reset_index(drop=True)\n",
    "\n",
    "print('train data shape', X_train.shape, y_train.shape)\n",
    "print('test data shape', X_test.shape, y_test.shape)"
   ]
  },
  {
   "cell_type": "code",
   "execution_count": 9,
   "id": "62ce1e40-731b-4080-9a3e-38c50c9c1a72",
   "metadata": {},
   "outputs": [],
   "source": [
    "with open(r'.\\data_for_model\\test\\test_data.pkl','wb') as f:\n",
    "    pickle.dump([X_test, y_test], f)"
   ]
  },
  {
   "cell_type": "markdown",
   "id": "18a3a6af-bd8e-47ca-9d2e-d0d06950e9ff",
   "metadata": {},
   "source": [
    "## Preprocessing"
   ]
  },
  {
   "cell_type": "markdown",
   "id": "d0826130-65e9-42d2-b2b5-805a96a42f30",
   "metadata": {},
   "source": [
    "### Numeric variables"
   ]
  },
  {
   "cell_type": "code",
   "execution_count": 12,
   "id": "68088f0e-ecfa-4910-b750-76f93ddfcf0a",
   "metadata": {},
   "outputs": [],
   "source": [
    "for feature in numeric_cols:\n",
    "    X_train[feature] = cap_values(X_train[feature], feature)"
   ]
  },
  {
   "cell_type": "markdown",
   "id": "7d70a4f1-8cfd-4a3c-b2d8-3f61cc645390",
   "metadata": {},
   "source": [
    "### FE features"
   ]
  },
  {
   "cell_type": "code",
   "execution_count": 14,
   "id": "73efdce2-311c-408d-8595-574da15cbe3e",
   "metadata": {},
   "outputs": [],
   "source": [
    "X_train['New_Cholesterol_Bin'] = X_train['Cholesterol'].map(categorize_value)"
   ]
  },
  {
   "cell_type": "code",
   "execution_count": 15,
   "id": "18e7548a-7f24-4a5d-8d4c-63151cba7680",
   "metadata": {},
   "outputs": [],
   "source": [
    "X_train['New_Risk_Score'] = X_train.apply(calculate_risk_score, axis=1)"
   ]
  },
  {
   "cell_type": "code",
   "execution_count": 16,
   "id": "3b6a9315-0723-4e86-a281-3ad411b4c86f",
   "metadata": {},
   "outputs": [],
   "source": [
    "num_FE_features = ['New_Risk_Score']\n",
    "cat_FE_features = ['New_Cholesterol_Bin']\n",
    "\n",
    "with open(r'.\\dumps\\num_FE_features.pkl', 'wb') as f:\n",
    "    pickle.dump(num_FE_features, f)\n",
    "\n",
    "with open(r'.\\dumps\\cat_FE_features.pkl', 'wb') as f:\n",
    "    pickle.dump(cat_FE_features, f)"
   ]
  },
  {
   "cell_type": "markdown",
   "id": "9da178c8-cb80-4898-be67-40e3bd1dfbad",
   "metadata": {},
   "source": [
    "### Categorial variables"
   ]
  },
  {
   "cell_type": "code",
   "execution_count": 18,
   "id": "a4cf3b6f-9096-4d5f-8a72-4aa34914973c",
   "metadata": {},
   "outputs": [
    {
     "name": "stdout",
     "output_type": "stream",
     "text": [
      "Sex : ['m' 'f']\n",
      "ChestPainType : ['asy' 'nap' 'ata' 'ta']\n",
      "FastingBS : ['1' '0']\n",
      "RestingECG : ['lvh' 'normal' 'st']\n",
      "ExerciseAngina : ['y' 'n']\n",
      "ST_Slope : ['flat' 'up' 'down']\n",
      "New_Cholesterol_Bin : ['high' 'medium' 'zero' 'low']\n"
     ]
    }
   ],
   "source": [
    "for feature in categorical_cols+cat_FE_features:\n",
    "    print(feature,\":\", X_train[feature].unique())"
   ]
  },
  {
   "cell_type": "code",
   "execution_count": 19,
   "id": "8736e103-f525-48d2-8fd0-b77b2082a56e",
   "metadata": {},
   "outputs": [],
   "source": [
    "mapping_features = ['Sex', 'FastingBS', 'ExerciseAngina']\n",
    "one_hot_features = ['ChestPainType', 'RestingECG', 'ST_Slope', 'New_Cholesterol_Bin']\n",
    "\n",
    "with open(r'.\\dumps\\mapping_features.pkl', 'wb') as f:\n",
    "    pickle.dump(mapping_features, f)\n",
    "\n",
    "with open(r'.\\dumps\\one_hot_features.pkl', 'wb') as f:\n",
    "    pickle.dump(one_hot_features, f)"
   ]
  },
  {
   "cell_type": "markdown",
   "id": "ad1357ec-03ec-480d-bfa5-02363a110d9e",
   "metadata": {},
   "source": [
    "**Mapping**"
   ]
  },
  {
   "cell_type": "code",
   "execution_count": 21,
   "id": "afab5177-9eda-4fa3-a7e7-9082d075802b",
   "metadata": {},
   "outputs": [],
   "source": [
    "mapping = {\n",
    "    'm' : 1, 'f' : 0,\n",
    "    '0' : 0, '1' : 1,\n",
    "    'n' : 0, 'y' : 1\n",
    "}\n",
    "\n",
    "with open(r'.\\dumps\\mapping.pkl', 'wb') as f:\n",
    "    pickle.dump(mapping, f)"
   ]
  },
  {
   "cell_type": "code",
   "execution_count": 22,
   "id": "cf045d96-0202-4b86-9d0b-b2dd34f75ecb",
   "metadata": {},
   "outputs": [
    {
     "name": "stderr",
     "output_type": "stream",
     "text": [
      "100%|████████████████████████████████████████████████████████████████████████████████████████████| 3/3 [00:00<?, ?it/s]\n"
     ]
    }
   ],
   "source": [
    "for feature in tqdm(mapping_features):\n",
    "    X_train[feature] = X_train[feature].map(mapping).astype(int)"
   ]
  },
  {
   "cell_type": "markdown",
   "id": "83544fa0-a942-4956-88d9-9c0930406d40",
   "metadata": {},
   "source": [
    "**One hot Encoding**"
   ]
  },
  {
   "cell_type": "code",
   "execution_count": 24,
   "id": "e1a3214f-ad6d-49fd-a97b-6fd09f2306eb",
   "metadata": {},
   "outputs": [],
   "source": [
    "encoder = OneHotEncoder(sparse=False)\n",
    "\n",
    "ohe_features_encoded = pd.DataFrame(encoder.fit_transform(X_train[one_hot_features]), columns= encoder.get_feature_names_out())\n",
    "ohe_features_encoded = ohe_features_encoded.astype(int)\n",
    "\n",
    "one_hot_encoder_feature_names = encoder.get_feature_names_out().tolist()\n",
    "\n",
    "with open(r'.\\dumps\\one_hot_encoder.pkl', 'wb') as f:\n",
    "    pickle.dump(encoder, f)\n",
    "\n",
    "with open(r'.\\dumps\\one_hot_encoder_feature_names.pkl', 'wb') as f:\n",
    "    pickle.dump(one_hot_encoder_feature_names, f)"
   ]
  },
  {
   "cell_type": "markdown",
   "id": "d52bd444-1a34-43b2-a832-c498ea557ddc",
   "metadata": {},
   "source": [
    "### Final Features"
   ]
  },
  {
   "cell_type": "code",
   "execution_count": 26,
   "id": "8801c540-154b-4514-aa03-f86e585aa8d5",
   "metadata": {},
   "outputs": [
    {
     "data": {
      "text/plain": [
       "((780, 23), (780,))"
      ]
     },
     "execution_count": 26,
     "metadata": {},
     "output_type": "execute_result"
    }
   ],
   "source": [
    "X_train = pd.concat([X_train[numeric_cols + num_FE_features + mapping_features], ohe_features_encoded], axis=1)\n",
    "X_train.shape, y_train.shape"
   ]
  },
  {
   "cell_type": "markdown",
   "id": "399531fa-85c1-4ded-ad1d-f177ca5a61c6",
   "metadata": {},
   "source": [
    "Imbalanced data"
   ]
  },
  {
   "cell_type": "code",
   "execution_count": 28,
   "id": "367bd070-fe71-47d5-b012-277748dc2d49",
   "metadata": {},
   "outputs": [],
   "source": [
    "X_tr_imb, y_tr_imb = X_train, y_train\n",
    "\n",
    "with open(r'.\\data_for_model\\train\\0_imb_data.pkl', 'wb') as f:\n",
    "    pickle.dump([X_tr_imb, y_tr_imb], f)"
   ]
  },
  {
   "cell_type": "code",
   "execution_count": 29,
   "id": "a710b378-1bc9-4e1a-9948-3ce556f9cc6b",
   "metadata": {},
   "outputs": [],
   "source": [
    "final_features = X_train.columns.tolist()\n",
    "with open(r'.\\dumps\\final_features.pkl', 'wb') as f:\n",
    "    pickle.dump(final_features, f)"
   ]
  },
  {
   "cell_type": "markdown",
   "id": "3670edb3-d947-49e1-b5cd-521bad99a917",
   "metadata": {},
   "source": [
    "## Balancing the data"
   ]
  },
  {
   "cell_type": "markdown",
   "id": "cf1320b5-1484-4cc3-acf4-e8a7e84abc13",
   "metadata": {},
   "source": [
    "SMOTE"
   ]
  },
  {
   "cell_type": "code",
   "execution_count": 32,
   "id": "6d99ce5d-cd5c-4982-95f0-57e8accad602",
   "metadata": {},
   "outputs": [
    {
     "name": "stdout",
     "output_type": "stream",
     "text": [
      "shape of X_resampled and y_resampled: (864, 23) (864,)\n"
     ]
    },
    {
     "data": {
      "text/plain": [
       "MentalHealth\n",
       "1    432\n",
       "0    432\n",
       "Name: count, dtype: int64"
      ]
     },
     "execution_count": 32,
     "metadata": {},
     "output_type": "execute_result"
    }
   ],
   "source": [
    "smote = SMOTE(random_state=42)\n",
    "X_tr_smote, y_tr_smote = smote.fit_resample(X_train, y_train)\n",
    "print('shape of X_resampled and y_resampled:', X_tr_smote.shape, y_tr_smote.shape)\n",
    "\n",
    "y_tr_smote.value_counts()"
   ]
  },
  {
   "cell_type": "code",
   "execution_count": 33,
   "id": "39aa30f2-867f-4d0d-8258-5ad8a3c07bd0",
   "metadata": {},
   "outputs": [],
   "source": [
    "with open(r'.\\data_for_model\\train\\1_smote_data.pkl', 'wb') as f:\n",
    "    pickle.dump([X_tr_smote, y_tr_smote], f)"
   ]
  },
  {
   "cell_type": "markdown",
   "id": "1234e49c-a06c-4651-8674-dae0addf62aa",
   "metadata": {},
   "source": [
    "## Scaling"
   ]
  },
  {
   "cell_type": "code",
   "execution_count": 35,
   "id": "278e51b5-5027-4073-91b7-2835d652fa5a",
   "metadata": {},
   "outputs": [],
   "source": [
    "num_cols = numeric_cols + num_FE_features"
   ]
  },
  {
   "cell_type": "markdown",
   "id": "6b523225-8403-4982-9537-785c6d4e65c8",
   "metadata": {},
   "source": [
    "Imbalanced scaled data"
   ]
  },
  {
   "cell_type": "code",
   "execution_count": 37,
   "id": "88e9c798-1055-4cf1-8fea-9d93eb40a785",
   "metadata": {},
   "outputs": [],
   "source": [
    "scaler = StandardScaler()\n",
    "\n",
    "num_std = pd.DataFrame(scaler.fit_transform(X_train[num_cols]), columns=num_cols)\n",
    "\n",
    "X_tr_std = pd.concat([num_std, X_train[mapping_features], X_train[one_hot_encoder_feature_names]], axis=1)\n",
    "y_tr_std = y_tr_imb\n",
    "with open(r'.\\dumps\\2_standardscaler.pkl', 'wb') as f:\n",
    "    pickle.dump(scaler, f)\n",
    "\n",
    "with open(r'.\\data_for_model\\train\\2_std_data.pkl', 'wb') as f:\n",
    "    pickle.dump([X_tr_std, y_tr_std], f)"
   ]
  },
  {
   "cell_type": "markdown",
   "id": "c4f17f59-1b08-40a6-b23d-83f939a4ecbf",
   "metadata": {},
   "source": [
    "Balanced data"
   ]
  },
  {
   "cell_type": "code",
   "execution_count": 39,
   "id": "1984d992-b62d-4243-9de8-3e933fa5aa30",
   "metadata": {},
   "outputs": [],
   "source": [
    "scaler = StandardScaler()\n",
    "\n",
    "num_std = pd.DataFrame(scaler.fit_transform(X_tr_smote[num_cols]), columns=num_cols)\n",
    "\n",
    "X_tr_smote_std = pd.concat([num_std, X_tr_smote[mapping_features], X_tr_smote[one_hot_encoder_feature_names]], axis=1)\n",
    "\n",
    "with open(r'.\\dumps\\3_smote_standardscaler.pkl', 'wb') as f:\n",
    "    pickle.dump(scaler, f)\n",
    "\n",
    "with open(r'.\\data_for_model\\train\\3_smote_std_data.pkl', 'wb') as f:\n",
    "    pickle.dump([X_tr_smote_std, y_tr_smote], f)"
   ]
  },
  {
   "cell_type": "markdown",
   "id": "84665746-862c-407a-8f7c-361ac9ae8e81",
   "metadata": {},
   "source": [
    "## Final Feature Sets"
   ]
  },
  {
   "cell_type": "code",
   "execution_count": 41,
   "id": "76129820-87c0-438e-9f75-b85b01960e7b",
   "metadata": {},
   "outputs": [],
   "source": [
    "train_feature_sets = {\n",
    "    '[X_tr_imb, y_tr_imb]' : [X_tr_imb, y_tr_imb],\n",
    "    '[X_tr_smote, y_tr_smote]' : [X_tr_smote, y_tr_smote],\n",
    "    '[X_tr_std, y_tr_std]': [X_tr_std, y_tr_std],\n",
    "    '[X_tr_smote_std, y_tr_smote]': [X_tr_smote_std, y_tr_smote]\n",
    "}\n",
    "\n",
    "with open(r'.\\dumps\\train_feature_sets.pkl', 'wb') as f:\n",
    "    pickle.dump(train_feature_sets, f)"
   ]
  }
 ],
 "metadata": {
  "kernelspec": {
   "display_name": "Python 3 (ipykernel)",
   "language": "python",
   "name": "python3"
  },
  "language_info": {
   "codemirror_mode": {
    "name": "ipython",
    "version": 3
   },
   "file_extension": ".py",
   "mimetype": "text/x-python",
   "name": "python",
   "nbconvert_exporter": "python",
   "pygments_lexer": "ipython3",
   "version": "3.11.7"
  }
 },
 "nbformat": 4,
 "nbformat_minor": 5
}
